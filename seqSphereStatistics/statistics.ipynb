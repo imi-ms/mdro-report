{
 "cells": [
  {
   "cell_type": "code",
   "metadata": {
    "collapsed": true,
    "ExecuteTime": {
     "end_time": "2025-02-05T09:21:29.852929800Z",
     "start_time": "2025-02-05T09:21:25.332238200Z"
    }
   },
   "source": "%use dataframe",
   "outputs": [],
   "execution_count": 1
  },
  {
   "metadata": {
    "ExecuteTime": {
     "end_time": "2025-02-05T09:36:30.235560100Z",
     "start_time": "2025-02-05T09:36:29.850570200Z"
    }
   },
   "cell_type": "code",
   "source": [
    "val ecoli = DataFrame.readCSV(File(\"EC1_Metadata_cgMLST_Export.csv\"), delimiter = ';')\n",
    "//val vre = DataFrame.readCSV(\"EF1_Metadata_cgMLST_Export.csv\")\n",
    "val mrsa = DataFrame.readCSV(\"SA1_Metadata_cgMLST_Export.csv\", delimiter = ';')"
   ],
   "outputs": [],
   "execution_count": 27
  },
  {
   "metadata": {
    "ExecuteTime": {
     "end_time": "2025-02-05T09:25:36.821208200Z",
     "start_time": "2025-02-05T09:25:34.786472100Z"
    }
   },
   "cell_type": "code",
   "source": [
    "//VRE is somehow broken\n",
    "val data = File(\"EF1_Metadata_cgMLST_Export.csv\").readLines().map { it.split(\";\").map { it.removeSurrounding(\"\\\"\") } }\n",
    "val header = data.first()\n",
    "val tail = data.drop(1)\n",
    "\n",
    "val vre = header.mapIndexed { index, s -> s to tail.map { it.getOrNull(index) } }.toMap().toDataFrame()"
   ],
   "outputs": [],
   "execution_count": 8
  },
  {
   "metadata": {
    "ExecuteTime": {
     "end_time": "2025-02-05T09:43:58.809043700Z",
     "start_time": "2025-02-05T09:43:58.708042900Z"
    }
   },
   "cell_type": "code",
   "source": [
    "mrsa.groupBy { ST }.count().sortBy { col(0) }.map {\n",
    "    \"`${ST}`(\\\"${ST}\\\", ${\n",
    "        String.format(\"%.3f\", \"count\"<Int>().toDouble() / mrsa.size().nrow.toDouble()).replace(\",\", \".\")\n",
    "    }),\"\n",
    "}.joinToString(\"\\n\")"
   ],
   "outputs": [
    {
     "data": {
      "text/plain": [
       "`null`(\"null\", 0.073),\n",
       "`1`(\"1\", 0.077),\n",
       "`1176`(\"1176\", 0.001),\n",
       "`121`(\"121\", 0.002),\n",
       "`1232`(\"1232\", 0.005),\n",
       "`130`(\"130\", 0.001),\n",
       "`1413`(\"1413\", 0.001),\n",
       "`1482`(\"1482\", 0.001),\n",
       "`149`(\"149\", 0.005),\n",
       "`152`(\"152\", 0.009),\n",
       "`1535`(\"1535\", 0.006),\n",
       "`1649`(\"1649\", 0.001),\n",
       "`188`(\"188\", 0.004),\n",
       "`1930`(\"1930\", 0.001),\n",
       "`207`(\"207\", 0.001),\n",
       "`22`(\"22\", 0.174),\n",
       "`225`(\"225\", 0.038),\n",
       "`2250`(\"2250\", 0.004),\n",
       "`239`(\"239\", 0.001),\n",
       "`2452`(\"2452\", 0.001),\n",
       "`25`(\"25\", 0.001),\n",
       "`2626`(\"2626\", 0.004),\n",
       "`2802`(\"2802\", 0.001),\n",
       "`30`(\"30\", 0.011),\n",
       "`3074`(\"3074\", 0.001),\n",
       "`338`(\"338\", 0.004),\n",
       "`34`(\"34\", 0.001),\n",
       "`39`(\"39\", 0.004),\n",
       "`398`(\"398\", 0.257),\n",
       "`4110`(\"4110\", 0.001),\n",
       "`45`(\"45\", 0.017),\n",
       "`5`(\"5\", 0.053),\n",
       "`5050`(\"5050\", 0.001),\n",
       "`508`(\"508\", 0.001),\n",
       "`5258`(\"5258\", 0.001),\n",
       "`573`(\"573\", 0.005),\n",
       "`582`(\"582\", 0.004),\n",
       "`5834`(\"5834\", 0.001),\n",
       "`59`(\"59\", 0.004),\n",
       "`5969`(\"5969\", 0.001),\n",
       "`599`(\"599\", 0.001),\n",
       "`6`(\"6\", 0.072),\n",
       "`630`(\"630\", 0.001),\n",
       "`6692`(\"6692\", 0.001),\n",
       "`672`(\"672\", 0.007),\n",
       "`7`(\"7\", 0.002),\n",
       "`710`(\"710\", 0.001),\n",
       "`7119`(\"7119\", 0.001),\n",
       "`72`(\"72\", 0.006),\n",
       "`737`(\"737\", 0.002),\n",
       "`772`(\"772\", 0.004),\n",
       "`789`(\"789\", 0.001),\n",
       "`8`(\"8\", 0.037),\n",
       "`80`(\"80\", 0.005),\n",
       "`859`(\"859\", 0.004),\n",
       "`87`(\"87\", 0.001),\n",
       "`88`(\"88\", 0.016),\n",
       "`9`(\"9\", 0.024),\n",
       "`97`(\"97\", 0.021),\n",
       "`n/a`(\"n/a\", 0.001),\n",
       "`unknown`(\"unknown\", 0.006),"
      ]
     },
     "execution_count": 33,
     "metadata": {},
     "output_type": "execute_result"
    }
   ],
   "execution_count": 33
  }
 ],
 "metadata": {
  "kernelspec": {
   "display_name": "Kotlin",
   "language": "kotlin",
   "name": "kotlin"
  },
  "language_info": {
   "name": "kotlin",
   "version": "1.9.23",
   "mimetype": "text/x-kotlin",
   "file_extension": ".kt",
   "pygments_lexer": "kotlin",
   "codemirror_mode": "text/x-kotlin",
   "nbconvert_exporter": ""
  }
 },
 "nbformat": 4,
 "nbformat_minor": 0
}
